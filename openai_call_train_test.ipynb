{
 "cells": [
  {
   "cell_type": "code",
   "execution_count": 1,
   "id": "27c127c5",
   "metadata": {},
   "outputs": [
    {
     "name": "stderr",
     "output_type": "stream",
     "text": [
      "/home/jovyan/conda-envs/pythonenv/lib/python3.10/site-packages/tqdm/auto.py:21: TqdmWarning: IProgress not found. Please update jupyter and ipywidgets. See https://ipywidgets.readthedocs.io/en/stable/user_install.html\n",
      "  from .autonotebook import tqdm as notebook_tqdm\n"
     ]
    }
   ],
   "source": [
    "import openai\n",
    "import os\n",
    "import pandas as pd\n",
    "import dataclasses\n",
    "from tqdm.auto import tqdm"
   ]
  },
  {
   "cell_type": "code",
   "execution_count": 2,
   "id": "41d9f373",
   "metadata": {},
   "outputs": [],
   "source": [
    "excel_file_path = '/home/jovyan/DL/data_for_GPT_test_2.csv'\n",
    "#columns_to_read = ['prompt']\n",
    "df = pd.read_csv(excel_file_path)"
   ]
  },
  {
   "cell_type": "code",
   "execution_count": 3,
   "id": "cceae4fe",
   "metadata": {},
   "outputs": [],
   "source": [
    "def run_inference_prompt(prompt):\n",
    "\n",
    "    openai.api_key = \"\"\n",
    "\n",
    "    model =  \"gpt-4-1106-preview\"\n",
    "    max_tokens = 1024\n",
    "    stop_strs = [\"\\ndef\", \"\\n#\", \"\\nif\", \"\\nclass\"]\n",
    "    temperature = 0.0\n",
    "    num_comps=1\n",
    "    \n",
    "    messages = [\n",
    "        {\"role\": \"system\", \"content\":  \"You are psychologist expert in understanding human intentions. Given this text from a software developer, summarize what is the intention of the software developer. Don't talk about details of the content. Limit your response to no more than two sentences.\"},\n",
    "        {\"role\": \"user\", \"content\": prompt},\n",
    "    ]\n",
    "\n",
    "    response = openai.ChatCompletion.create(\n",
    "            model=model,\n",
    "            #prompt=prompt,\n",
    "            messages = messages,\n",
    "            temperature=temperature,\n",
    "            max_tokens=max_tokens,\n",
    "            top_p=1,\n",
    "            frequency_penalty=0.0,\n",
    "            presence_penalty=0.0,\n",
    "            stop=stop_strs,\n",
    "            n=num_comps,\n",
    "            #prompt_terminology = \"reworded\"\n",
    "        )\n",
    "    return response['choices'][0]['message']['content']"
   ]
  },
  {
   "cell_type": "code",
   "execution_count": 4,
   "id": "ad4b35bd",
   "metadata": {},
   "outputs": [
    {
     "name": "stderr",
     "output_type": "stream",
     "text": [
      "100%|██████████| 37/37 [02:11<00:00,  3.56s/it]\n"
     ]
    }
   ],
   "source": [
    "#gpt_df = data_list.copy()\n",
    "return_inference = []\n",
    "\n",
    "for index, row in tqdm(df.iterrows(), total=df.shape[0]):\n",
    "    return_inference.append(run_inference_prompt(row[\"prompt\"]))\n",
    "    \n",
    "#gpt_df[\"summary\"] = return_inference\n",
    "    "
   ]
  },
  {
   "cell_type": "code",
   "execution_count": 5,
   "id": "dfd74dab",
   "metadata": {},
   "outputs": [],
   "source": [
    "df[\"prompt_summary\"] = return_inference"
   ]
  },
  {
   "cell_type": "code",
   "execution_count": 6,
   "id": "a75ec483",
   "metadata": {},
   "outputs": [
    {
     "data": {
      "text/html": [
       "<div>\n",
       "<style scoped>\n",
       "    .dataframe tbody tr th:only-of-type {\n",
       "        vertical-align: middle;\n",
       "    }\n",
       "\n",
       "    .dataframe tbody tr th {\n",
       "        vertical-align: top;\n",
       "    }\n",
       "\n",
       "    .dataframe thead th {\n",
       "        text-align: right;\n",
       "    }\n",
       "</style>\n",
       "<table border=\"1\" class=\"dataframe\">\n",
       "  <thead>\n",
       "    <tr style=\"text-align: right;\">\n",
       "      <th></th>\n",
       "      <th>chat_id</th>\n",
       "      <th>round_id</th>\n",
       "      <th>prompt</th>\n",
       "      <th>answer</th>\n",
       "      <th>prompt_summary</th>\n",
       "    </tr>\n",
       "  </thead>\n",
       "  <tbody>\n",
       "    <tr>\n",
       "      <th>0</th>\n",
       "      <td>14</td>\n",
       "      <td>1</td>\n",
       "      <td>I am telling an LLM about the \"arguments\" prop...</td>\n",
       "      <td>ChatGPTChange description to: \"JSON-formatted ...</td>\n",
       "      <td>The software developer intends to modify the d...</td>\n",
       "    </tr>\n",
       "    <tr>\n",
       "      <th>1</th>\n",
       "      <td>22</td>\n",
       "      <td>1</td>\n",
       "      <td>Is it more gas efficient to pack types smaller...</td>\n",
       "      <td>ChatGPTIn Solidity, storage layout optimizatio...</td>\n",
       "      <td>The software developer intends to understand t...</td>\n",
       "    </tr>\n",
       "    <tr>\n",
       "      <th>2</th>\n",
       "      <td>23</td>\n",
       "      <td>1</td>\n",
       "      <td>Which of these is better Elisp?\\n\\n(when-let (...</td>\n",
       "      <td>ChatGPTIn Emacs Lisp (Elisp), the when-let con...</td>\n",
       "      <td>The software developer is seeking advice on th...</td>\n",
       "    </tr>\n",
       "    <tr>\n",
       "      <th>3</th>\n",
       "      <td>25</td>\n",
       "      <td>1</td>\n",
       "      <td>Write a Scratch extension that adds bitwise op...</td>\n",
       "      <td>ChatGPTCreating a Scratch extension that adds ...</td>\n",
       "      <td>The software developer intends to create an ad...</td>\n",
       "    </tr>\n",
       "    <tr>\n",
       "      <th>4</th>\n",
       "      <td>43</td>\n",
       "      <td>1</td>\n",
       "      <td>This is an Alexa skills `intend.json` written ...</td>\n",
       "      <td>ChatGPTCertainly! Here's the translation of th...</td>\n",
       "      <td>The software developer intends to translate us...</td>\n",
       "    </tr>\n",
       "  </tbody>\n",
       "</table>\n",
       "</div>"
      ],
      "text/plain": [
       "   chat_id  round_id                                             prompt  \\\n",
       "0       14         1  I am telling an LLM about the \"arguments\" prop...   \n",
       "1       22         1  Is it more gas efficient to pack types smaller...   \n",
       "2       23         1  Which of these is better Elisp?\\n\\n(when-let (...   \n",
       "3       25         1  Write a Scratch extension that adds bitwise op...   \n",
       "4       43         1  This is an Alexa skills `intend.json` written ...   \n",
       "\n",
       "                                              answer  \\\n",
       "0  ChatGPTChange description to: \"JSON-formatted ...   \n",
       "1  ChatGPTIn Solidity, storage layout optimizatio...   \n",
       "2  ChatGPTIn Emacs Lisp (Elisp), the when-let con...   \n",
       "3  ChatGPTCreating a Scratch extension that adds ...   \n",
       "4  ChatGPTCertainly! Here's the translation of th...   \n",
       "\n",
       "                                      prompt_summary  \n",
       "0  The software developer intends to modify the d...  \n",
       "1  The software developer intends to understand t...  \n",
       "2  The software developer is seeking advice on th...  \n",
       "3  The software developer intends to create an ad...  \n",
       "4  The software developer intends to translate us...  "
      ]
     },
     "execution_count": 6,
     "metadata": {},
     "output_type": "execute_result"
    }
   ],
   "source": [
    "df.head()"
   ]
  },
  {
   "cell_type": "code",
   "execution_count": 7,
   "id": "39da2ea9",
   "metadata": {},
   "outputs": [],
   "source": [
    "#df2 = pd.read_csv(excel_file_path)"
   ]
  },
  {
   "cell_type": "code",
   "execution_count": 8,
   "id": "7149e9d0",
   "metadata": {},
   "outputs": [],
   "source": [
    "df[\"prompt_summary\"] = return_inference"
   ]
  },
  {
   "cell_type": "code",
   "execution_count": 9,
   "id": "fdcc58be",
   "metadata": {},
   "outputs": [],
   "source": [
    "df.to_excel('/home/jovyan/DL/data_test_2_after_gpt.xlsx', index=False) "
   ]
  },
  {
   "cell_type": "code",
   "execution_count": null,
   "id": "dcdd2966",
   "metadata": {},
   "outputs": [],
   "source": []
  }
 ],
 "metadata": {
  "kernelspec": {
   "display_name": "Python [conda env:pythonenv]",
   "language": "python",
   "name": "conda-env-pythonenv-py"
  },
  "language_info": {
   "codemirror_mode": {
    "name": "ipython",
    "version": 3
   },
   "file_extension": ".py",
   "mimetype": "text/x-python",
   "name": "python",
   "nbconvert_exporter": "python",
   "pygments_lexer": "ipython3",
   "version": "3.10.13"
  }
 },
 "nbformat": 4,
 "nbformat_minor": 5
}
